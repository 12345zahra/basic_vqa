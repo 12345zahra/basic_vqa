{
 "cells": [
  {
   "cell_type": "code",
   "execution_count": 1,
   "metadata": {},
   "outputs": [],
   "source": [
    "import numpy as np"
   ]
  },
  {
   "cell_type": "code",
   "execution_count": 2,
   "metadata": {},
   "outputs": [],
   "source": [
    "vqa = np.load('../datasets/train.npy')"
   ]
  },
  {
   "cell_type": "code",
   "execution_count": 3,
   "metadata": {},
   "outputs": [
    {
     "data": {
      "text/plain": [
       "443757"
      ]
     },
     "execution_count": 3,
     "metadata": {},
     "output_type": "execute_result"
    }
   ],
   "source": [
    "len(vqa)"
   ]
  },
  {
   "cell_type": "code",
   "execution_count": 4,
   "metadata": {},
   "outputs": [],
   "source": [
    "idx = 0"
   ]
  },
  {
   "cell_type": "code",
   "execution_count": 5,
   "metadata": {},
   "outputs": [
    {
     "data": {
      "text/plain": [
       "dict_keys(['image_name', 'question_id', 'valid_answers', 'question_tokens', 'all_answers', 'image_path', 'question_str'])"
      ]
     },
     "execution_count": 5,
     "metadata": {},
     "output_type": "execute_result"
    }
   ],
   "source": [
    "vqa[idx].keys()"
   ]
  },
  {
   "cell_type": "code",
   "execution_count": 6,
   "metadata": {},
   "outputs": [
    {
     "data": {
      "text/plain": [
       "{'all_answers': ['net',\n",
       "  'net',\n",
       "  'net',\n",
       "  'netting',\n",
       "  'net',\n",
       "  'net',\n",
       "  'mesh',\n",
       "  'net',\n",
       "  'net',\n",
       "  'net'],\n",
       " 'image_name': 'COCO_train2014_000000458752',\n",
       " 'image_path': '/run/media/hoosiki/WareHouse3/mtb/datasets/VQA/Resized_Images/train2014/COCO_train2014_000000458752.jpg',\n",
       " 'question_id': 458752000,\n",
       " 'question_str': 'What is this photo taken looking through?',\n",
       " 'question_tokens': ['what',\n",
       "  'is',\n",
       "  'this',\n",
       "  'photo',\n",
       "  'taken',\n",
       "  'looking',\n",
       "  'through',\n",
       "  '?'],\n",
       " 'valid_answers': ['net',\n",
       "  'net',\n",
       "  'net',\n",
       "  'net',\n",
       "  'net',\n",
       "  'mesh',\n",
       "  'net',\n",
       "  'net',\n",
       "  'net']}"
      ]
     },
     "execution_count": 6,
     "metadata": {},
     "output_type": "execute_result"
    }
   ],
   "source": [
    "vqa[idx]"
   ]
  },
  {
   "cell_type": "code",
   "execution_count": 7,
   "metadata": {},
   "outputs": [
    {
     "data": {
      "text/plain": [
       "['net', 'net', 'net', 'netting', 'net', 'net', 'mesh', 'net', 'net', 'net']"
      ]
     },
     "execution_count": 7,
     "metadata": {},
     "output_type": "execute_result"
    }
   ],
   "source": [
    "(vqa[idx]['all_answers'])"
   ]
  },
  {
   "cell_type": "code",
   "execution_count": 8,
   "metadata": {},
   "outputs": [
    {
     "data": {
      "text/plain": [
       "['net', 'net', 'net', 'net', 'net', 'mesh', 'net', 'net', 'net']"
      ]
     },
     "execution_count": 8,
     "metadata": {},
     "output_type": "execute_result"
    }
   ],
   "source": [
    "(vqa[idx]['valid_answers'])"
   ]
  },
  {
   "cell_type": "code",
   "execution_count": 9,
   "metadata": {},
   "outputs": [
    {
     "data": {
      "text/plain": [
       "9"
      ]
     },
     "execution_count": 9,
     "metadata": {},
     "output_type": "execute_result"
    }
   ],
   "source": [
    "len(vqa[idx]['valid_answers'])"
   ]
  },
  {
   "cell_type": "code",
   "execution_count": null,
   "metadata": {},
   "outputs": [],
   "source": []
  },
  {
   "cell_type": "code",
   "execution_count": null,
   "metadata": {},
   "outputs": [],
   "source": []
  }
 ],
 "metadata": {
  "kernelspec": {
   "display_name": "Python 3",
   "language": "python",
   "name": "python3"
  },
  "language_info": {
   "codemirror_mode": {
    "name": "ipython",
    "version": 3
   },
   "file_extension": ".py",
   "mimetype": "text/x-python",
   "name": "python",
   "nbconvert_exporter": "python",
   "pygments_lexer": "ipython3",
   "version": "3.5.6"
  }
 },
 "nbformat": 4,
 "nbformat_minor": 2
}
